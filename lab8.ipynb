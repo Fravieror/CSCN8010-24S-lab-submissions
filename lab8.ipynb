{
 "cells": [
  {
   "cell_type": "markdown",
   "metadata": {},
   "source": [
    "1. Setup Tensorflow and PyTorch based on the instructions in `./setup/README.md`"
   ]
  },
  {
   "cell_type": "code",
   "execution_count": 3,
   "metadata": {},
   "outputs": [
    {
     "name": "stdout",
     "output_type": "stream",
     "text": [
      "Tensor: tensor([10, 10])\n",
      "PyTorch version: 2.3.1\n",
      "Succeeded\n"
     ]
    }
   ],
   "source": [
    "try:\n",
    "    import torch\n",
    "    print(f'Tensor: {torch.tensor([10, 10])}')\n",
    "    print(f'PyTorch version: {torch.__version__}')    \n",
    "    print('Succeeded')\n",
    "except:\n",
    "    print(\"Didn't succeed\")"
   ]
  },
  {
   "cell_type": "code",
   "execution_count": 6,
   "metadata": {},
   "outputs": [
    {
     "name": "stdout",
     "output_type": "stream",
     "text": [
      "Tensor: [10 10]\n",
      "Tensorflow version: 2.17.0\n",
      "Succeeded\n"
     ]
    }
   ],
   "source": [
    "try:\n",
    "    import tensorflow as tf\n",
    "    print(f'Tensor: {tf.constant([10, 10])}')\n",
    "    print(f'Tensorflow version: {tf.__version__}')    \n",
    "    print('Succeeded')\n",
    "except:\n",
    "    print(\"Didn't succeed\")"
   ]
  },
  {
   "cell_type": "markdown",
   "metadata": {},
   "source": [
    "## 2.\n",
    "## a."
   ]
  },
  {
   "cell_type": "code",
   "execution_count": 7,
   "metadata": {},
   "outputs": [
    {
     "name": "stdout",
     "output_type": "stream",
     "text": [
      "The dot product of [1.0, 2.0, 3.0] and [4.0, 5.0, 6.0] is 32.0\n"
     ]
    }
   ],
   "source": [
    "\n",
    "# Define two vectors\n",
    "vector1 = torch.tensor([1.0, 2.0, 3.0])\n",
    "vector2 = torch.tensor([4.0, 5.0, 6.0])\n",
    "\n",
    "# Calculate the dot product\n",
    "dot_product = torch.dot(vector1, vector2)\n",
    "\n",
    "print(f\"The dot product of {vector1.tolist()} and {vector2.tolist()} is {dot_product.item()}\")\n"
   ]
  },
  {
   "cell_type": "markdown",
   "metadata": {},
   "source": [
    "## b."
   ]
  },
  {
   "cell_type": "code",
   "execution_count": 8,
   "metadata": {},
   "outputs": [
    {
     "name": "stdout",
     "output_type": "stream",
     "text": [
      "Matrix 1:\n",
      "tensor([[1., 2.],\n",
      "        [3., 4.]])\n",
      "\n",
      "Matrix 2:\n",
      "tensor([[5., 6.],\n",
      "        [7., 8.]])\n",
      "\n",
      "Matrix multiplication result:\n",
      "tensor([[19., 22.],\n",
      "        [43., 50.]])\n"
     ]
    }
   ],
   "source": [
    "# Define two 2x2 matrices\n",
    "matrix1 = torch.tensor([[1.0, 2.0], [3.0, 4.0]])\n",
    "matrix2 = torch.tensor([[5.0, 6.0], [7.0, 8.0]])\n",
    "\n",
    "# Calculate the matrix multiplication\n",
    "result = torch.matmul(matrix1, matrix2)\n",
    "\n",
    "print(\"Matrix 1:\")\n",
    "print(matrix1)\n",
    "print(\"\\nMatrix 2:\")\n",
    "print(matrix2)\n",
    "print(\"\\nMatrix multiplication result:\")\n",
    "print(result)"
   ]
  },
  {
   "cell_type": "markdown",
   "metadata": {},
   "source": [
    "## 3.\n",
    "## a."
   ]
  },
  {
   "cell_type": "code",
   "execution_count": 9,
   "metadata": {},
   "outputs": [
    {
     "name": "stdout",
     "output_type": "stream",
     "text": [
      "The dot product of [1. 2. 3.] and [4. 5. 6.] is 32.0\n"
     ]
    }
   ],
   "source": [
    "# Define two vectors\n",
    "vector1 = tf.constant([1.0, 2.0, 3.0])\n",
    "vector2 = tf.constant([4.0, 5.0, 6.0])\n",
    "\n",
    "# Calculate the dot product\n",
    "dot_product = tf.tensordot(vector1, vector2, axes=1)\n",
    "\n",
    "print(f\"The dot product of {vector1.numpy()} and {vector2.numpy()} is {dot_product.numpy()}\")"
   ]
  },
  {
   "cell_type": "markdown",
   "metadata": {},
   "source": [
    "## b."
   ]
  },
  {
   "cell_type": "code",
   "execution_count": 10,
   "metadata": {},
   "outputs": [
    {
     "name": "stdout",
     "output_type": "stream",
     "text": [
      "Matrix 1:\n",
      "[[1. 2.]\n",
      " [3. 4.]]\n",
      "\n",
      "Matrix 2:\n",
      "[[5. 6.]\n",
      " [7. 8.]]\n",
      "\n",
      "Matrix multiplication result:\n",
      "[[19. 22.]\n",
      " [43. 50.]]\n"
     ]
    }
   ],
   "source": [
    "# Define two 2x2 matrices\n",
    "matrix1 = tf.constant([[1.0, 2.0], [3.0, 4.0]])\n",
    "matrix2 = tf.constant([[5.0, 6.0], [7.0, 8.0]])\n",
    "\n",
    "# Calculate the matrix multiplication\n",
    "result = tf.matmul(matrix1, matrix2)\n",
    "\n",
    "print(\"Matrix 1:\")\n",
    "print(matrix1.numpy())\n",
    "print(\"\\nMatrix 2:\")\n",
    "print(matrix2.numpy())\n",
    "print(\"\\nMatrix multiplication result:\")\n",
    "print(result.numpy())"
   ]
  }
 ],
 "metadata": {
  "kernelspec": {
   "display_name": "Python 3",
   "language": "python",
   "name": "python3"
  },
  "language_info": {
   "codemirror_mode": {
    "name": "ipython",
    "version": 3
   },
   "file_extension": ".py",
   "mimetype": "text/x-python",
   "name": "python",
   "nbconvert_exporter": "python",
   "pygments_lexer": "ipython3",
   "version": "3.12.0"
  }
 },
 "nbformat": 4,
 "nbformat_minor": 2
}

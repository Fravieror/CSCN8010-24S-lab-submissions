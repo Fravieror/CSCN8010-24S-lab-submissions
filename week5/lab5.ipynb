{
 "cells": [
  {
   "cell_type": "markdown",
   "metadata": {},
   "source": [
    "# Lab5\n",
    "\n",
    "1. Utilize the diabetes dataset from scikit Perform cross-validation on nine polynomial models, ranging from degree 0 to 8. with 75 % training and 25 % testing data."
   ]
  },
  {
   "cell_type": "code",
   "execution_count": 1,
   "metadata": {},
   "outputs": [
    {
     "name": "stderr",
     "output_type": "stream",
     "text": [
      "/var/folders/n4/c2sb2xb9007345j_q2hym83w0000gn/T/ipykernel_36360/2358503301.py:56: FutureWarning: The behavior of DataFrame concatenation with empty or all-NA entries is deprecated. In a future version, this will no longer exclude empty or all-NA columns when determining the result dtypes. To retain the old behavior, exclude the relevant entries before the concat operation.\n",
      "  results = pd.concat([results, new_row], ignore_index=True)\n"
     ]
    }
   ],
   "source": [
    "# Importing necessary libraries\n",
    "import numpy as np\n",
    "import pandas as pd\n",
    "from sklearn.datasets import load_diabetes\n",
    "from sklearn.model_selection import train_test_split\n",
    "from sklearn.linear_model import LinearRegression\n",
    "from sklearn.preprocessing import PolynomialFeatures\n",
    "from sklearn.metrics import mean_absolute_error\n",
    "from sklearn.metrics import r2_score\n",
    "from sklearn.model_selection import cross_val_score\n",
    "\n",
    "# Load the diabetes dataset\n",
    "diabetes = load_diabetes()\n",
    "X = diabetes.data\n",
    "y = diabetes.target\n",
    "\n",
    "# Split the dataset into training and testing sets\n",
    "X_train, X_test, y_train, y_test = train_test_split(X, y, test_size=0.25, random_state=0)\n",
    "\n",
    "# Create a DataFrame to store the cross-validation results\n",
    "results = pd.DataFrame(columns=['Degree', 'R-Squared', 'MAE'])\n",
    "\n",
    "# Perform cross-validation on polynomial models of degrees 0 to 8\n",
    "for degree in range(9):\n",
    "    # Create polynomial features\n",
    "    poly = PolynomialFeatures(degree=degree)\n",
    "    # degree=degree means that the degree of the polynomial will be the same as the loop variable\n",
    "    # For example, when degree=0, the polynomial will be a constant term\n",
    "    # When degree=1, the polynomial will be a linear function\n",
    "    # When degree=2, the polynomial will be a quadratic function\n",
    "    # And so on\n",
    "    X_poly = poly.fit_transform(X_train)\n",
    "\n",
    "    # Fit a linear regression model\n",
    "    model = LinearRegression()\n",
    "    scores = cross_val_score(model, X_poly, y_train, cv=None, scoring='neg_mean_absolute_error')\n",
    "    # cv=None means that the function will use the default 5-fold cross-validation\n",
    "    # 5-fold cross-validation means that the dataset is split into 5 parts, and the model is trained on 4 parts and tested on 1 part\n",
    "\n",
    "    # y=None means that the function will use the default scoring metric for the model\n",
    "    # For LinearRegression, the default scoring metric is R-squared\n",
    "    mae = -scores.mean()\n",
    "    # .mean() calculates the average of the scores\n",
    "    # The negative sign is used because the scores are negative by default\n",
    "    # The negative sign is used to make the scores positive\n",
    "\n",
    "    r2 = cross_val_score(model, X_poly, y_train, cv=None, scoring='r2').mean()\n",
    "    # .mean() calculates the average of the scores\n",
    "    # The default scoring metric for LinearRegression is R-squared\n",
    "    # R-squared is a measure of how well the model fits the data\n",
    "    # R-squared ranges from 0 to 1, where 1 means the model fits the data perfectly or is predicting the target variable perfectly\n",
    "\n",
    "\n",
    "    # Append the results using concat\n",
    "    new_row = pd.DataFrame({'Degree': [degree], 'R-Squared': [r2], 'MAE': [mae]})\n",
    "    results = pd.concat([results, new_row], ignore_index=True)\n"
   ]
  },
  {
   "cell_type": "markdown",
   "metadata": {},
   "source": [
    "2. Construct a table summarizing the cross-validation results. Each model should have a separate row in the table. Include the R-Squared and Mean Absolute Error (MAE) metrics for each model. Calculate the mean value and standard deviation of these metrics from the cross-validation. Include both values."
   ]
  },
  {
   "cell_type": "code",
   "execution_count": 2,
   "metadata": {},
   "outputs": [
    {
     "name": "stdout",
     "output_type": "stream",
     "text": [
      "Cross-Validation Results:\n",
      "  Degree    R-Squared          MAE\n",
      "0      0    -0.006681    68.274930\n",
      "1      1     0.512232    44.917726\n",
      "2      2     0.370773    48.694205\n",
      "3      3 -2387.549996  1869.326642\n",
      "4      4   -18.045974   215.564530\n",
      "5      5   -17.483505   213.475218\n",
      "6      6   -17.485083   213.460474\n",
      "7      7   -17.484977   213.460399\n",
      "8      8   -17.500454   213.488239\n",
      "\n",
      "Mean R-Squared: -274.9637406376293\n",
      "Standard Deviation of R-Squared: 792.2672295759245\n",
      "Mean MAE: 344.5180402859339\n",
      "Standard Deviation of MAE: 577.0556566674474\n"
     ]
    }
   ],
   "source": [
    "# Calculate the mean and standard deviation of R-Squared and MAE\n",
    "mean_r2 = results['R-Squared'].mean()\n",
    "std_r2 = results['R-Squared'].std()\n",
    "mean_mae = results['MAE'].mean()\n",
    "std_mae = results['MAE'].std()\n",
    "\n",
    "# Print the results\n",
    "print(\"Cross-Validation Results:\")\n",
    "print(results)\n",
    "\n",
    "# Print the mean and standard deviation of R-Squared and MAE\n",
    "print(\"\\nMean R-Squared:\", mean_r2)\n",
    "print(\"Standard Deviation of R-Squared:\", std_r2)\n",
    "print(\"Mean MAE:\", mean_mae)\n",
    "print(\"Standard Deviation of MAE:\", std_mae)"
   ]
  },
  {
   "cell_type": "markdown",
   "metadata": {},
   "source": [
    "3. Identify the model that exhibits the highest performance based on the R-Squared and MAE metrics. Provide an explanation for choosing this specific model."
   ]
  },
  {
   "cell_type": "code",
   "execution_count": 3,
   "metadata": {},
   "outputs": [
    {
     "name": "stdout",
     "output_type": "stream",
     "text": [
      "\n",
      "Best Model based on R-Squared:\n",
      "Degree               1\n",
      "R-Squared     0.512232\n",
      "MAE          44.917726\n",
      "Name: 1, dtype: object\n",
      "\n",
      "Best Model based on MAE:\n",
      "Degree               1\n",
      "R-Squared     0.512232\n",
      "MAE          44.917726\n",
      "Name: 1, dtype: object\n"
     ]
    }
   ],
   "source": [
    "# Identify the model with the highest performance based on R-Squared and MAE\n",
    "best_model_r2 = results.loc[results['R-Squared'].idxmax()]\n",
    "best_model_mae = results.loc[results['MAE'].idxmin()]\n",
    "\n",
    "print(\"\\nBest Model based on R-Squared:\")\n",
    "print(best_model_r2)\n",
    "print(\"\\nBest Model based on MAE:\")\n",
    "print(best_model_mae)\n"
   ]
  },
  {
   "cell_type": "markdown",
   "metadata": {},
   "source": [
    "The best training degree for R-Squared is one because it is the number closest to 1.\n",
    "The best training degree for MAE is also one because it represents the minimum absolute difference between the prediction and actual observation.\n",
    "\n",
    "Therefore, the chosen model degree will be one, as it has the best measure of prediction accuracy and has the best measure to assess the goodness-of-fit."
   ]
  }
 ],
 "metadata": {
  "kernelspec": {
   "display_name": "Python 3",
   "language": "python",
   "name": "python3"
  },
  "language_info": {
   "codemirror_mode": {
    "name": "ipython",
    "version": 3
   },
   "file_extension": ".py",
   "mimetype": "text/x-python",
   "name": "python",
   "nbconvert_exporter": "python",
   "pygments_lexer": "ipython3",
   "version": "3.12.0"
  }
 },
 "nbformat": 4,
 "nbformat_minor": 2
}
